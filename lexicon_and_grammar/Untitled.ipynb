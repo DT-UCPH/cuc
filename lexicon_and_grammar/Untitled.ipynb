{
 "cells": [
  {
   "cell_type": "code",
   "execution_count": 2,
   "id": "fa89b723",
   "metadata": {},
   "outputs": [],
   "source": [
    "import yaml"
   ]
  },
  {
   "cell_type": "code",
   "execution_count": 44,
   "id": "3a0c6789",
   "metadata": {},
   "outputs": [],
   "source": [
    "with open('ugaritic_word_grammar.yaml', 'r') as file:\n",
    "    word_grammar = yaml.safe_load(file)"
   ]
  },
  {
   "cell_type": "code",
   "execution_count": 45,
   "id": "00ce3964",
   "metadata": {},
   "outputs": [
    {
     "data": {
      "text/plain": [
       "{'inflection': {'prefix': {'pfm': ['!', '!'], 'vbs': [']', ']']},\n",
       "  'core': {'lex': {}},\n",
       "  'suffix': {'vbe': ['['], 'nme': ['/'], 'uvf': ['~']},\n",
       "  'pattern': {'vpm': [':']}},\n",
       " 'forms': {'pfm': ['', 'y', 't', 't=', 't==', 'a'],\n",
       "  'vbs': ['n', 't', 't=', 'Å¡', 'Å¡t'],\n",
       "  'vbe': ['',\n",
       "   't',\n",
       "   't=',\n",
       "   't==',\n",
       "   't===',\n",
       "   't====',\n",
       "   'tm',\n",
       "   'tn',\n",
       "   'n',\n",
       "   't=====',\n",
       "   'tm=',\n",
       "   'n=',\n",
       "   'y'],\n",
       "  'nme': ['t', 'm', 'm='],\n",
       "  'uvf': [],\n",
       "  'vpm': ['d', 'a', 'i', 'u']},\n",
       " 'functions': {'gn': {'f': 'feminine', 'm': 'masculine'},\n",
       "  'nu': {'sg': 'singular', 'dl': 'dual', 'pl': 'plural'},\n",
       "  'ps': {'first': 'first', 'second': 'second', 'third': 'third'},\n",
       "  'sp': {'verb': 'verb',\n",
       "   'subs': 'noun',\n",
       "   'nmpr': 'proper_noun',\n",
       "   'advb': 'adverb',\n",
       "   'prep': 'preposition',\n",
       "   'conj': 'conjunction',\n",
       "   'prps': 'personal pronoun',\n",
       "   'prde': 'demonstrative pronoun',\n",
       "   'prin': 'interrogative pronoun',\n",
       "   'ntj': 'interjection',\n",
       "   'nega': 'negative',\n",
       "   'inrg': 'interrogative',\n",
       "   'adjv': 'adjective'},\n",
       "  'st': {'cst': 'construct', 'abs': 'absolute'},\n",
       "  'vs': {'G': 'Grundstamm',\n",
       "   'Gp': 'passiver Grundstamm',\n",
       "   'Gt': 'reflexiver Grundstamm',\n",
       "   'D': 'Doppelungsstamm',\n",
       "   'Dp': 'passiver Doppelungsstamm',\n",
       "   'tD': 'reflexiver Doppelungsstamm',\n",
       "   'Å\\xa0': 'Å\\xa0-stamm',\n",
       "   'Å\\xa0p': 'passiver Å\\xa0-stamm',\n",
       "   'Å\\xa0t': 'reflexiver Å\\xa0-stamm',\n",
       "   'N': 'N-stamm'},\n",
       "  'vt': {'impf': 'imperfect',\n",
       "   'perf': 'perfect',\n",
       "   'impv': 'imperativ',\n",
       "   'ptca': 'participle',\n",
       "   'inf': 'infinitive'}}}"
      ]
     },
     "execution_count": 45,
     "metadata": {},
     "output_type": "execute_result"
    }
   ],
   "source": [
    "word_grammar"
   ]
  },
  {
   "cell_type": "code",
   "execution_count": null,
   "id": "79a18fd5",
   "metadata": {},
   "outputs": [],
   "source": []
  }
 ],
 "metadata": {
  "kernelspec": {
   "display_name": "Python 3 (ipykernel)",
   "language": "python",
   "name": "python3"
  },
  "language_info": {
   "codemirror_mode": {
    "name": "ipython",
    "version": 3
   },
   "file_extension": ".py",
   "mimetype": "text/x-python",
   "name": "python",
   "nbconvert_exporter": "python",
   "pygments_lexer": "ipython3",
   "version": "3.9.7"
  }
 },
 "nbformat": 4,
 "nbformat_minor": 5
}
